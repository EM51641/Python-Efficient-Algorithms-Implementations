{
 "cells": [
  {
   "cell_type": "code",
   "execution_count": 1,
   "metadata": {},
   "outputs": [],
   "source": [
    "from dfs import DFS\n",
    "import numpy as np"
   ]
  },
  {
   "cell_type": "code",
   "execution_count": 2,
   "metadata": {},
   "outputs": [],
   "source": [
    "test = np.array([[0,0,1], [1, 0, 0], [1, 1, 0]])\n",
    "row, col = 0, 0"
   ]
  },
  {
   "cell_type": "code",
   "execution_count": 3,
   "metadata": {},
   "outputs": [
    {
     "data": {
      "text/plain": [
       "0"
      ]
     },
     "execution_count": 3,
     "metadata": {},
     "output_type": "execute_result"
    }
   ],
   "source": [
    "test[0, 1]"
   ]
  },
  {
   "cell_type": "code",
   "execution_count": 4,
   "metadata": {},
   "outputs": [],
   "source": [
    "a = DFS(row, col, test)"
   ]
  },
  {
   "cell_type": "code",
   "execution_count": 5,
   "metadata": {},
   "outputs": [],
   "source": [
    "a.iteration()"
   ]
  },
  {
   "cell_type": "code",
   "execution_count": null,
   "metadata": {},
   "outputs": [
    {
     "data": {
      "text/plain": [
       "array([[0, 0, 1],\n",
       "       [1, 0, 0],\n",
       "       [1, 1, 0]])"
      ]
     },
     "execution_count": 20,
     "metadata": {},
     "output_type": "execute_result"
    }
   ],
   "source": [
    "test"
   ]
  },
  {
   "cell_type": "code",
   "execution_count": 21,
   "metadata": {},
   "outputs": [
    {
     "name": "stdout",
     "output_type": "stream",
     "text": [
      "2 2\n",
      "2 1\n",
      "1 1\n",
      "1 0\n",
      "0 0\n"
     ]
    }
   ],
   "source": [
    "while a.linked_lst != None:\n",
    "    print(a.linked_lst.row, a.linked_lst.col)\n",
    "    a.linked_lst = a.linked_lst.prev"
   ]
  },
  {
   "cell_type": "code",
   "execution_count": 8,
   "metadata": {},
   "outputs": [],
   "source": [
    "a.linked_lst.next"
   ]
  },
  {
   "cell_type": "code",
   "execution_count": 3,
   "metadata": {},
   "outputs": [],
   "source": [
    "import numpy as np \n",
    "#test = np.ones([[0,0,0], [1, 1, 0], [0, 0, 0]])\n",
    "row, col = 0, 0"
   ]
  },
  {
   "cell_type": "code",
   "execution_count": 1,
   "metadata": {},
   "outputs": [],
   "source": [
    "class LinkedList:\n",
    "    def __init__(self, col: int, row: int, next = None, prev=None):\n",
    "        self.col = col\n",
    "        self.row = row\n",
    "        self.next = next\n",
    "        self.prev = prev"
   ]
  },
  {
   "cell_type": "code",
   "execution_count": 70,
   "metadata": {},
   "outputs": [],
   "source": [
    "import numpy as np \n",
    "test = np.array([[0,0,0], [1, 1, 0], [0, 0, 0]])\n",
    "vec = np.zeros(test.shape)\n",
    "vec[0,0] = True\n",
    "row, col = 0, 0\n",
    "\n",
    "def generate(x: int, y: int, diff_level:np.double):\n",
    "    test = np.zeros((x, y))\n",
    "    for l in range(0, x):\n",
    "        for m in range(0, y):\n",
    "            if np.random.uniform() > diff_level:\n",
    "                test[l, m] = 0\n",
    "            else:\n",
    "                test[l, m] = 1\n",
    "    return test\n",
    "\n",
    "def dfs(arr, row, col, vec, linkedlist: LinkedList):\n",
    "\n",
    "    if row < len(arr) - 1 and arr[row + 1, col] == 0 and vec[row + 1, col] == False :\n",
    "        row = row + 1\n",
    "        vec[row, col] = True\n",
    "        temp = linkedlist\n",
    "        linkedlist.next = LinkedList(row, col)\n",
    "        linkedlist = linkedlist.next\n",
    "        #linkedlist.prev = temp\n",
    "        dfs(arr, row, col, vec, linkedlist)\n",
    "\n",
    "    elif row > 0 and arr[row - 1, col] == 0 and vec[row - 1, col] == False:\n",
    "        row = row - 1\n",
    "        vec[row, col] = True\n",
    "        temp = linkedlist\n",
    "        linkedlist.next = LinkedList(row, col)\n",
    "        linkedlist = linkedlist.next\n",
    "        #linkedlist.prev = temp\n",
    "        dfs(arr, row, col, vec, linkedlist)\n",
    "\n",
    "    elif col < len(arr) - 1 and arr[row, col + 1] == 0 and vec[row, col + 1] == False:\n",
    "        col = col + 1\n",
    "        vec[row, col] = True\n",
    "        temp = linkedlist\n",
    "        linkedlist.next = LinkedList(row, col)\n",
    "        linkedlist = linkedlist.next\n",
    "        #linkedlist.prev = temp\n",
    "        dfs(arr, row, col, vec, linkedlist)\n",
    "\n",
    "    elif col > 0  and arr[row, col - 1] == 0 and vec[row, col - 1] == False:\n",
    "        col = col - 1\n",
    "        vec[row, col] = True\n",
    "        temp = linkedlist\n",
    "        linkedlist.next = LinkedList(row, col)\n",
    "        linkedlist = linkedlist.next\n",
    "        #linkedlist.prev = temp\n",
    "        dfs(arr, row, col, vec, linkedlist)\n",
    "\n",
    "    else:\n",
    "        print(linkedlist.row, linkedlist.col)\n",
    "        if linkedlist.row == 4 and linkedlist.col == 4:\n",
    "            return True\n",
    "\n",
    "        else:\n",
    "            return False\n"
   ]
  },
  {
   "cell_type": "code",
   "execution_count": 71,
   "metadata": {},
   "outputs": [],
   "source": [
    "m = np.array([[0, 1, 0, 0], [0, 1, 0, 0], [0, 1, 0, 1], [0, 0, 1, 0]])#generate(5, 5, 0.10)"
   ]
  },
  {
   "cell_type": "code",
   "execution_count": 72,
   "metadata": {},
   "outputs": [
    {
     "data": {
      "text/plain": [
       "array([[0, 1, 0, 0],\n",
       "       [0, 1, 0, 0],\n",
       "       [0, 1, 0, 1],\n",
       "       [0, 0, 1, 0]])"
      ]
     },
     "execution_count": 72,
     "metadata": {},
     "output_type": "execute_result"
    }
   ],
   "source": [
    "m"
   ]
  },
  {
   "cell_type": "code",
   "execution_count": 73,
   "metadata": {},
   "outputs": [],
   "source": [
    "vec = np.zeros((5, 5))"
   ]
  },
  {
   "cell_type": "code",
   "execution_count": 74,
   "metadata": {},
   "outputs": [
    {
     "name": "stdout",
     "output_type": "stream",
     "text": [
      "1 3\n"
     ]
    }
   ],
   "source": [
    "head = Linkedl = LinkedList(0, 0)\n",
    "dfs(m, 0, 0, vec, Linkedl)"
   ]
  },
  {
   "cell_type": "code",
   "execution_count": 75,
   "metadata": {},
   "outputs": [
    {
     "data": {
      "text/plain": [
       "array([[0., 0., 0., 0., 0.],\n",
       "       [1., 0., 0., 0., 0.],\n",
       "       [1., 0., 0., 0., 0.],\n",
       "       [1., 1., 0., 0., 0.],\n",
       "       [0., 0., 0., 0., 0.]])"
      ]
     },
     "execution_count": 75,
     "metadata": {},
     "output_type": "execute_result"
    }
   ],
   "source": [
    "vec"
   ]
  },
  {
   "cell_type": "code",
   "execution_count": 76,
   "metadata": {},
   "outputs": [
    {
     "data": {
      "text/plain": [
       "array([[0, 1, 0, 0],\n",
       "       [0, 1, 0, 0],\n",
       "       [0, 1, 0, 1],\n",
       "       [0, 0, 1, 0]])"
      ]
     },
     "execution_count": 76,
     "metadata": {},
     "output_type": "execute_result"
    }
   ],
   "source": [
    "m"
   ]
  },
  {
   "cell_type": "code",
   "execution_count": 77,
   "metadata": {},
   "outputs": [
    {
     "name": "stdout",
     "output_type": "stream",
     "text": [
      "0 0\n",
      "0 1\n",
      "0 2\n",
      "0 3\n",
      "1 3\n"
     ]
    }
   ],
   "source": [
    "while head.next != None:\n",
    "    print(head.row, head.col)\n",
    "    head = head.next\n",
    "print(head.row, head.col)    "
   ]
  },
  {
   "cell_type": "code",
   "execution_count": 78,
   "metadata": {},
   "outputs": [
    {
     "data": {
      "text/plain": [
       "array([[0., 0., 0., 0., 0.],\n",
       "       [1., 0., 0., 0., 0.],\n",
       "       [1., 0., 0., 0., 0.],\n",
       "       [1., 1., 0., 0., 0.],\n",
       "       [0., 0., 0., 0., 0.]])"
      ]
     },
     "execution_count": 78,
     "metadata": {},
     "output_type": "execute_result"
    }
   ],
   "source": [
    "vec"
   ]
  },
  {
   "cell_type": "code",
   "execution_count": 87,
   "metadata": {},
   "outputs": [
    {
     "data": {
      "text/plain": [
       "0.2779549814756237"
      ]
     },
     "execution_count": 87,
     "metadata": {},
     "output_type": "execute_result"
    }
   ],
   "source": [
    "np.random.uniform()"
   ]
  },
  {
   "cell_type": "code",
   "execution_count": 28,
   "metadata": {},
   "outputs": [
    {
     "data": {
      "text/plain": [
       "7"
      ]
     },
     "execution_count": 28,
     "metadata": {},
     "output_type": "execute_result"
    }
   ],
   "source": [
    "np.random.randint(0, 120)"
   ]
  },
  {
   "cell_type": "code",
   "execution_count": 29,
   "metadata": {},
   "outputs": [
    {
     "name": "stdout",
     "output_type": "stream",
     "text": [
      "0 2\n"
     ]
    }
   ],
   "source": [
    "head = Linkedl = LinkedList(0, 0)\n",
    "dfs(test, 0, 0, vec, Linkedl)"
   ]
  },
  {
   "cell_type": "code",
   "execution_count": 45,
   "metadata": {},
   "outputs": [
    {
     "name": "stdout",
     "output_type": "stream",
     "text": [
      "0 0\n"
     ]
    },
    {
     "data": {
      "text/plain": [
       "False"
      ]
     },
     "execution_count": 45,
     "metadata": {},
     "output_type": "execute_result"
    }
   ],
   "source": [
    "dfs(test, 0, 0, vec, Linkedl)"
   ]
  },
  {
   "cell_type": "code",
   "execution_count": 8,
   "metadata": {},
   "outputs": [
    {
     "data": {
      "text/plain": [
       "False"
      ]
     },
     "execution_count": 8,
     "metadata": {},
     "output_type": "execute_result"
    }
   ],
   "source": [
    "dfs(test, 0, 0, vec, LinkedList(0, 0))"
   ]
  },
  {
   "cell_type": "code",
   "execution_count": 71,
   "metadata": {},
   "outputs": [
    {
     "name": "stdout",
     "output_type": "stream",
     "text": [
      "0 0\n",
      "1 0\n",
      "2 0\n",
      "2 1\n",
      "2 2\n",
      "1 2\n"
     ]
    }
   ],
   "source": [
    "while head.next != None:\n",
    "    print(head.row, head.col)\n",
    "    head = head.next"
   ]
  },
  {
   "cell_type": "code",
   "execution_count": 18,
   "metadata": {},
   "outputs": [
    {
     "data": {
      "text/plain": [
       "2"
      ]
     },
     "execution_count": 18,
     "metadata": {},
     "output_type": "execute_result"
    }
   ],
   "source": [
    "head.col"
   ]
  },
  {
   "cell_type": "code",
   "execution_count": 9,
   "metadata": {},
   "outputs": [
    {
     "data": {
      "text/plain": [
       "0"
      ]
     },
     "execution_count": 9,
     "metadata": {},
     "output_type": "execute_result"
    }
   ],
   "source": [
    "col"
   ]
  },
  {
   "cell_type": "code",
   "execution_count": 9,
   "metadata": {},
   "outputs": [
    {
     "ename": "ValueError",
     "evalue": "invalid literal for int() with base 10: 'ada'",
     "output_type": "error",
     "traceback": [
      "\u001b[1;31m---------------------------------------------------------------------------\u001b[0m",
      "\u001b[1;31mValueError\u001b[0m                                Traceback (most recent call last)",
      "\u001b[1;32mc:\\Users\\elyesmah\\Desktop\\Efficient Python Algorithms\\DFS\\dfs.ipynb Cell 15\u001b[0m in \u001b[0;36m<cell line: 1>\u001b[1;34m()\u001b[0m\n\u001b[1;32m----> <a href='vscode-notebook-cell:/c%3A/Users/elyesmah/Desktop/Efficient%20Python%20Algorithms/DFS/dfs.ipynb#X16sZmlsZQ%3D%3D?line=0'>1</a>\u001b[0m test[\u001b[39m0\u001b[39m,\u001b[39m0\u001b[39m] \u001b[39m=\u001b[39m \u001b[39m'\u001b[39m\u001b[39mada\u001b[39m\u001b[39m'\u001b[39m\n",
      "\u001b[1;31mValueError\u001b[0m: invalid literal for int() with base 10: 'ada'"
     ]
    }
   ],
   "source": [
    "test[0,0] = 'ada'"
   ]
  },
  {
   "cell_type": "code",
   "execution_count": 15,
   "metadata": {},
   "outputs": [
    {
     "data": {
      "text/plain": [
       "[[0, 0, 0], [1, 1, 0], [0, 0, 0]]"
      ]
     },
     "execution_count": 15,
     "metadata": {},
     "output_type": "execute_result"
    }
   ],
   "source": [
    "test"
   ]
  },
  {
   "cell_type": "code",
   "execution_count": 14,
   "metadata": {},
   "outputs": [],
   "source": [
    "test = [[0,0,0], [1, 1, 0], [0, 0, 0]]\n"
   ]
  },
  {
   "cell_type": "code",
   "execution_count": 16,
   "metadata": {},
   "outputs": [
    {
     "data": {
      "text/plain": [
       "True"
      ]
     },
     "execution_count": 16,
     "metadata": {},
     "output_type": "execute_result"
    }
   ],
   "source": [
    "test[1][0] == True"
   ]
  },
  {
   "cell_type": "code",
   "execution_count": 20,
   "metadata": {},
   "outputs": [
    {
     "data": {
      "text/plain": [
       "[[0, 0, 0], [1, 1, 0], [0, 0, 0]]"
      ]
     },
     "execution_count": 20,
     "metadata": {},
     "output_type": "execute_result"
    }
   ],
   "source": [
    "test"
   ]
  },
  {
   "cell_type": "code",
   "execution_count": 21,
   "metadata": {},
   "outputs": [
    {
     "data": {
      "text/plain": [
       "True"
      ]
     },
     "execution_count": 21,
     "metadata": {},
     "output_type": "execute_result"
    }
   ],
   "source": [
    "1 == True"
   ]
  },
  {
   "cell_type": "code",
   "execution_count": null,
   "metadata": {},
   "outputs": [],
   "source": []
  }
 ],
 "metadata": {
  "kernelspec": {
   "display_name": "Python 3.10.4 64-bit",
   "language": "python",
   "name": "python3"
  },
  "language_info": {
   "codemirror_mode": {
    "name": "ipython",
    "version": 3
   },
   "file_extension": ".py",
   "mimetype": "text/x-python",
   "name": "python",
   "nbconvert_exporter": "python",
   "pygments_lexer": "ipython3",
   "version": "3.10.4"
  },
  "orig_nbformat": 4,
  "vscode": {
   "interpreter": {
    "hash": "bd4a15cb9a6a016812beaff6b960bfdc98393b085b41f63fe4ba2b973a599904"
   }
  }
 },
 "nbformat": 4,
 "nbformat_minor": 2
}
