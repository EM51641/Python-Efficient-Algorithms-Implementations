{
 "cells": [
  {
   "cell_type": "code",
   "execution_count": 1,
   "metadata": {},
   "outputs": [],
   "source": [
    "import numpy as np\n",
    "from Heapify import heapify\n",
    "\n",
    "def solve(nums):\n",
    "   n = len(nums)\n",
    "   for i in range(n):\n",
    "      m = i * 2\n",
    "      num = nums[i]\n",
    "      if m + 1 < n:\n",
    "         if num > nums[m + 1]:\n",
    "            return False\n",
    "      if m + 2 < n:\n",
    "         if num > nums[m + 2]:\n",
    "            return False\n",
    "   return True\n",
    "\n",
    "# Verify if it works\n",
    "for i in range(0, 100):\n",
    "   size = np.random.randint(1, 10000)\n",
    "   nums = np.random.randint(100, size= size)\n",
    "   heapify(nums)\n",
    "   if solve(nums) == False:\n",
    "      print(False)"
   ]
  },
  {
   "cell_type": "code",
   "execution_count": 3,
   "metadata": {},
   "outputs": [],
   "source": [
    "nums = np.random.randint(100, size=1000000)"
   ]
  },
  {
   "cell_type": "code",
   "execution_count": 4,
   "metadata": {},
   "outputs": [
    {
     "name": "stdout",
     "output_type": "stream",
     "text": [
      "3.15 ms ± 1.12 ms per loop (mean ± std. dev. of 7 runs, 100 loops each)\n"
     ]
    }
   ],
   "source": [
    "%%timeit\n",
    "heapify(nums)"
   ]
  },
  {
   "cell_type": "code",
   "execution_count": 5,
   "metadata": {},
   "outputs": [],
   "source": [
    "import heapq\n",
    "nums = list(np.random.randint(100, size=1000000))"
   ]
  },
  {
   "cell_type": "code",
   "execution_count": 6,
   "metadata": {},
   "outputs": [
    {
     "name": "stdout",
     "output_type": "stream",
     "text": [
      "49 ms ± 8.68 ms per loop (mean ± std. dev. of 7 runs, 10 loops each)\n"
     ]
    }
   ],
   "source": [
    "%%timeit\n",
    "heapq.heapify(nums)"
   ]
  }
 ],
 "metadata": {
  "kernelspec": {
   "display_name": "Python 3.10.4 64-bit",
   "language": "python",
   "name": "python3"
  },
  "language_info": {
   "codemirror_mode": {
    "name": "ipython",
    "version": 3
   },
   "file_extension": ".py",
   "mimetype": "text/x-python",
   "name": "python",
   "nbconvert_exporter": "python",
   "pygments_lexer": "ipython3",
   "version": "3.10.4"
  },
  "orig_nbformat": 4,
  "vscode": {
   "interpreter": {
    "hash": "bd4a15cb9a6a016812beaff6b960bfdc98393b085b41f63fe4ba2b973a599904"
   }
  }
 },
 "nbformat": 4,
 "nbformat_minor": 2
}
