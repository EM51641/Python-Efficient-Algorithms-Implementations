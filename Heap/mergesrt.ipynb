{
 "cells": [
  {
   "cell_type": "code",
   "execution_count": 1,
   "metadata": {},
   "outputs": [],
   "source": [
    "import numpy as np\n",
    "import Heapify\n",
    "#from Heapify import heapify\n",
    "\n",
    "def solve(nums):\n",
    "   n = len(nums)\n",
    "   for i in range(n):\n",
    "      m = i * 2\n",
    "      num = nums[i]\n",
    "      if m + 1 < n:\n",
    "         if num > nums[m + 1]:\n",
    "            return False\n",
    "      if m + 2 < n:\n",
    "         if num > nums[m + 2]:\n",
    "            return False\n",
    "   return True\n",
    "\n",
    "# Verify if it works\n",
    "for i in range(0, 1000):\n",
    "   size = np.random.randint(1, 100)\n",
    "   nums = list(np.random.randint(100, size= 8))\n",
    "   Heapify.heapify(nums)\n",
    "   if solve(nums) == False:\n",
    "      print(False)"
   ]
  },
  {
   "cell_type": "code",
   "execution_count": 2,
   "metadata": {},
   "outputs": [],
   "source": [
    "import numpy as np\n",
    "import Heapify\n",
    "size = 5\n",
    "nums = list(np.random.randint(100, size= size))\n",
    "Heapify.heapify(nums)"
   ]
  },
  {
   "cell_type": "code",
   "execution_count": 3,
   "metadata": {},
   "outputs": [
    {
     "data": {
      "text/plain": [
       "[5.0, 20.0, 31.0, 92.0, 35.0]"
      ]
     },
     "execution_count": 3,
     "metadata": {},
     "output_type": "execute_result"
    }
   ],
   "source": [
    "nums"
   ]
  },
  {
   "cell_type": "code",
   "execution_count": 4,
   "metadata": {},
   "outputs": [],
   "source": [
    "size = 1000000\n",
    "nums = list(np.random.randint(100, size= size))"
   ]
  },
  {
   "cell_type": "code",
   "execution_count": 5,
   "metadata": {},
   "outputs": [
    {
     "name": "stdout",
     "output_type": "stream",
     "text": [
      "99.5 ms ± 12.3 ms per loop (mean ± std. dev. of 7 runs, 1 loop each)\n"
     ]
    }
   ],
   "source": [
    "%%timeit\n",
    "Heapify.heapify(nums)"
   ]
  },
  {
   "cell_type": "code",
   "execution_count": 8,
   "metadata": {},
   "outputs": [],
   "source": [
    "import heapq\n",
    "nums = list(np.random.randint(100, size=size))"
   ]
  },
  {
   "cell_type": "code",
   "execution_count": 9,
   "metadata": {},
   "outputs": [
    {
     "name": "stdout",
     "output_type": "stream",
     "text": [
      "46.3 ms ± 2.75 ms per loop (mean ± std. dev. of 7 runs, 10 loops each)\n"
     ]
    }
   ],
   "source": [
    "%%timeit\n",
    "heapq.heapify(nums)"
   ]
  },
  {
   "cell_type": "code",
   "execution_count": null,
   "metadata": {},
   "outputs": [],
   "source": [
    "def loo():\n",
    "    return break;"
   ]
  }
 ],
 "metadata": {
  "kernelspec": {
   "display_name": "Python 3.10.4 64-bit",
   "language": "python",
   "name": "python3"
  },
  "language_info": {
   "codemirror_mode": {
    "name": "ipython",
    "version": 3
   },
   "file_extension": ".py",
   "mimetype": "text/x-python",
   "name": "python",
   "nbconvert_exporter": "python",
   "pygments_lexer": "ipython3",
   "version": "3.10.4"
  },
  "orig_nbformat": 4,
  "vscode": {
   "interpreter": {
    "hash": "bd4a15cb9a6a016812beaff6b960bfdc98393b085b41f63fe4ba2b973a599904"
   }
  }
 },
 "nbformat": 4,
 "nbformat_minor": 2
}
